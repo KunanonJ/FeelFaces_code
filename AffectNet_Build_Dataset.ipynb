{
 "metadata": {
  "language_info": {
   "codemirror_mode": {
    "name": "ipython",
    "version": 3
   },
   "file_extension": ".py",
   "mimetype": "text/x-python",
   "name": "python",
   "nbconvert_exporter": "python",
   "pygments_lexer": "ipython3",
   "version": "3.9.4"
  },
  "orig_nbformat": 2,
  "kernelspec": {
   "name": "python394jvsc74a57bd04cd7ab41f5fca4b9b44701077e38c5ffd31fe66a6cab21e0214b68d958d0e462",
   "display_name": "Python 3.9.4 64-bit"
  },
  "metadata": {
   "interpreter": {
    "hash": "4cd7ab41f5fca4b9b44701077e38c5ffd31fe66a6cab21e0214b68d958d0e462"
   }
  }
 },
 "nbformat": 4,
 "nbformat_minor": 2,
 "cells": [
  {
   "cell_type": "code",
   "execution_count": 1,
   "metadata": {},
   "outputs": [],
   "source": [
    "import pandas as pd\n",
    "import numpy as np\n",
    "import os\n",
    "import shutil\n",
    "from tqdm import tqdm, trange\n",
    "tqdm.pandas()"
   ]
  },
  {
   "cell_type": "code",
   "execution_count": 2,
   "metadata": {},
   "outputs": [],
   "source": [
    "mapper = {\"0\": \"Neutral\" , \"1\": \"Happy\", \"2\": \"Sad\", \"3\": \"Surprise\", \"4\": \"Fear\", \"5\": \"Disgust\", \"6\": \"Anger\", \"7\": \"Contempt\"}"
   ]
  },
  {
   "cell_type": "code",
   "execution_count": 26,
   "metadata": {},
   "outputs": [
    {
     "output_type": "stream",
     "name": "stderr",
     "text": [
      "100%|██████████| 3999/3999 [00:01<00:00, 2228.35it/s]Success\n",
      "\n"
     ]
    },
    {
     "output_type": "execute_result",
     "data": {
      "text/plain": [
       "     img_number      exp_file       exp\n",
       "0        63.jpg    63_exp.npy     Happy\n",
       "1      4217.jpg  4217_exp.npy     Happy\n",
       "2      3578.jpg  3578_exp.npy   Disgust\n",
       "3      2666.jpg  2666_exp.npy  Surprise\n",
       "4      5109.jpg  5109_exp.npy     Anger\n",
       "...         ...           ...       ...\n",
       "3994   4568.jpg  4568_exp.npy  Surprise\n",
       "3995   2119.jpg  2119_exp.npy  Surprise\n",
       "3996   5110.jpg  5110_exp.npy     Happy\n",
       "3997   3561.jpg  3561_exp.npy  Contempt\n",
       "3998   1376.jpg  1376_exp.npy      Fear\n",
       "\n",
       "[3999 rows x 3 columns]"
      ],
      "text/html": "<div>\n<style scoped>\n    .dataframe tbody tr th:only-of-type {\n        vertical-align: middle;\n    }\n\n    .dataframe tbody tr th {\n        vertical-align: top;\n    }\n\n    .dataframe thead th {\n        text-align: right;\n    }\n</style>\n<table border=\"1\" class=\"dataframe\">\n  <thead>\n    <tr style=\"text-align: right;\">\n      <th></th>\n      <th>img_number</th>\n      <th>exp_file</th>\n      <th>exp</th>\n    </tr>\n  </thead>\n  <tbody>\n    <tr>\n      <th>0</th>\n      <td>63.jpg</td>\n      <td>63_exp.npy</td>\n      <td>Happy</td>\n    </tr>\n    <tr>\n      <th>1</th>\n      <td>4217.jpg</td>\n      <td>4217_exp.npy</td>\n      <td>Happy</td>\n    </tr>\n    <tr>\n      <th>2</th>\n      <td>3578.jpg</td>\n      <td>3578_exp.npy</td>\n      <td>Disgust</td>\n    </tr>\n    <tr>\n      <th>3</th>\n      <td>2666.jpg</td>\n      <td>2666_exp.npy</td>\n      <td>Surprise</td>\n    </tr>\n    <tr>\n      <th>4</th>\n      <td>5109.jpg</td>\n      <td>5109_exp.npy</td>\n      <td>Anger</td>\n    </tr>\n    <tr>\n      <th>...</th>\n      <td>...</td>\n      <td>...</td>\n      <td>...</td>\n    </tr>\n    <tr>\n      <th>3994</th>\n      <td>4568.jpg</td>\n      <td>4568_exp.npy</td>\n      <td>Surprise</td>\n    </tr>\n    <tr>\n      <th>3995</th>\n      <td>2119.jpg</td>\n      <td>2119_exp.npy</td>\n      <td>Surprise</td>\n    </tr>\n    <tr>\n      <th>3996</th>\n      <td>5110.jpg</td>\n      <td>5110_exp.npy</td>\n      <td>Happy</td>\n    </tr>\n    <tr>\n      <th>3997</th>\n      <td>3561.jpg</td>\n      <td>3561_exp.npy</td>\n      <td>Contempt</td>\n    </tr>\n    <tr>\n      <th>3998</th>\n      <td>1376.jpg</td>\n      <td>1376_exp.npy</td>\n      <td>Fear</td>\n    </tr>\n  </tbody>\n</table>\n<p>3999 rows × 3 columns</p>\n</div>"
     },
     "metadata": {},
     "execution_count": 26
    }
   ],
   "source": [
    "main_df = pd.DataFrame()\n",
    "# list all files in directory\n",
    "main_df['img_number'] = os.listdir('/Users/kunanonjarat/Desktop/4th year😏/Digital Image Processing/DIP Project/Dataset/AffectNet/train_set/images')\n",
    "main_df['exp_file'] = main_df['img_number'].str.extract('(\\d+)') + '_exp.npy'\n",
    "\n",
    "main_df['exp'] = main_df['exp_file'].progress_map(lambda x: np.load(os.path.join('/Users/kunanonjarat/Desktop/4th year😏/Digital Image Processing/DIP Project/Dataset/AffectNet/train_set/annotations', x)))\n",
    "print(\"Success\")\n",
    "main_df['exp'] = main_df['exp'].map(mapper)\n",
    "main_df"
   ]
  },
  {
   "cell_type": "code",
   "execution_count": 16,
   "metadata": {},
   "outputs": [
    {
     "output_type": "execute_result",
     "data": {
      "text/plain": [
       "Happy       46.728501\n",
       "Neutral     26.029459\n",
       "Sad          8.850656\n",
       "Anger        8.650066\n",
       "Surprise     4.898297\n",
       "Fear         2.217270\n",
       "Disgust      1.322088\n",
       "Contempt     1.303663\n",
       "Name: exp, dtype: float64"
      ]
     },
     "metadata": {},
     "execution_count": 16
    }
   ],
   "source": [
    "# Check for data balance\n",
    "# main_df['exp'].value_counts()\n",
    "main_df['exp'].value_counts(normalize=True)*100"
   ]
  },
  {
   "cell_type": "code",
   "execution_count": 6,
   "metadata": {},
   "outputs": [],
   "source": [
    "main_df.to_csv(\"/Users/kunanonjarat/Desktop/4th year😏/Digital Image Processing/DIP Project/Dataset/AffectNet/train_set/mapper_Train.csv\")\n",
    "main_df['exp'].drop_duplicates().to_list()"
   ]
  },
  {
   "source": [
    "# Validation"
   ],
   "cell_type": "markdown",
   "metadata": {}
  },
  {
   "cell_type": "code",
   "execution_count": 17,
   "metadata": {},
   "outputs": [],
   "source": [
    "# Get CSV\n",
    "main_df = pd.read_csv(\"/Users/kunanonjarat/Desktop/4th year😏/Digital Image Processing/DIP Project/Dataset/AffectNet/val_set/mapper_Val.csv\")"
   ]
  },
  {
   "cell_type": "code",
   "execution_count": 18,
   "metadata": {},
   "outputs": [
    {
     "output_type": "stream",
     "name": "stderr",
     "text": [
      "100%|██████████| 500/500 [00:00<00:00, 598.49it/s]\n",
      "100%|██████████| 500/500 [00:00<00:00, 970.06it/s]\n",
      "100%|██████████| 500/500 [00:00<00:00, 979.88it/s]\n",
      "100%|██████████| 500/500 [00:00<00:00, 771.98it/s]\n",
      "100%|██████████| 500/500 [00:00<00:00, 921.46it/s]\n",
      "100%|██████████| 500/500 [00:00<00:00, 796.51it/s]\n",
      "100%|██████████| 499/499 [00:00<00:00, 755.72it/s]\n",
      "100%|██████████| 500/500 [00:00<00:00, 677.31it/s]\n"
     ]
    }
   ],
   "source": [
    "exps = main_df['exp'].drop_duplicates().to_list()\n",
    "old_path = '/Users/kunanonjarat/Desktop/4th year😏/Digital Image Processing/DIP Project/Dataset/AffectNet/val_set/images' ## image folder directory\n",
    "new_path = '/Users/kunanonjarat/Desktop/4th year😏/Digital Image Processing/DIP Project/Dataset/AffectNet/val_set/imgaes_classified' ## image classified folder\n",
    "\n",
    "for exp in exps:\n",
    "\n",
    "  img_file_ls = main_df[main_df['exp'] == exp]['img_number'].to_list()\n",
    "  new_folder = str(exp)\n",
    "  os.mkdir(os.path.join(new_path, new_folder))\n",
    "  \n",
    "  ## Copy and Paste image to new folders\n",
    "  for file in tqdm(img_file_ls):\n",
    "\n",
    "    file_path = os.path.join(old_path, file)\n",
    "    shutil.copy(file_path, os.path.join(new_path, new_folder))"
   ]
  },
  {
   "source": [
    "# Train"
   ],
   "cell_type": "markdown",
   "metadata": {}
  },
  {
   "cell_type": "code",
   "execution_count": 19,
   "metadata": {},
   "outputs": [],
   "source": [
    "# Get CSV\n",
    "main_df = pd.read_csv(\"/Users/kunanonjarat/Desktop/4th year😏/Digital Image Processing/DIP Project/Dataset/AffectNet/train_set/mapper_Train.csv\")"
   ]
  },
  {
   "cell_type": "code",
   "execution_count": 20,
   "metadata": {},
   "outputs": [
    {
     "output_type": "stream",
     "name": "stderr",
     "text": [
      "100%|██████████| 134415/134415 [03:13<00:00, 695.74it/s]\n",
      "100%|██████████| 74874/74874 [01:22<00:00, 911.43it/s]\n",
      "100%|██████████| 24882/24882 [00:28<00:00, 887.38it/s]\n",
      "100%|██████████| 25459/25459 [00:28<00:00, 881.50it/s]\n",
      "100%|██████████| 6378/6378 [00:07<00:00, 824.35it/s]\n",
      "100%|██████████| 14090/14090 [00:16<00:00, 880.22it/s]\n",
      "100%|██████████| 3803/3803 [00:04<00:00, 807.25it/s]\n",
      "100%|██████████| 3750/3750 [00:04<00:00, 865.85it/s]\n"
     ]
    }
   ],
   "source": [
    "exps = main_df['exp'].drop_duplicates().to_list()\n",
    "old_path = '/Users/kunanonjarat/Desktop/4th year😏/Digital Image Processing/DIP Project/Dataset/AffectNet/train_set/images' ## image folder directory\n",
    "new_path = '/Users/kunanonjarat/Desktop/4th year😏/Digital Image Processing/DIP Project/Dataset/AffectNet/train_set/images_classified' ## image classified folder\n",
    "\n",
    "for exp in exps:\n",
    "\n",
    "  img_file_ls = main_df[main_df['exp'] == exp]['img_number'].to_list()\n",
    "  new_folder = str(exp)\n",
    "  os.mkdir(os.path.join(new_path, new_folder))\n",
    "  \n",
    "  ## Copy and Paste image to new folders\n",
    "  for file in tqdm(img_file_ls):\n",
    "\n",
    "    file_path = os.path.join(old_path, file)\n",
    "    shutil.copy(file_path, os.path.join(new_path, new_folder))"
   ]
  },
  {
   "cell_type": "code",
   "execution_count": 4,
   "metadata": {},
   "outputs": [
    {
     "output_type": "stream",
     "name": "stdout",
     "text": [
      "Collecting split_folders\n",
      "  Downloading split_folders-0.4.3-py3-none-any.whl (7.4 kB)\n",
      "Installing collected packages: split-folders\n",
      "Successfully installed split-folders-0.4.3\n"
     ]
    }
   ],
   "source": [
    "!pip3 install split_folders\n",
    "import splitfolders "
   ]
  },
  {
   "cell_type": "code",
   "execution_count": 8,
   "metadata": {},
   "outputs": [
    {
     "output_type": "stream",
     "name": "stderr",
     "text": [
      "Copying files: 287651 files [04:57, 968.26 files/s] complete\n",
      "\n"
     ]
    }
   ],
   "source": [
    "input_folder = \"/Users/kunanonjarat/Downloads/AffectNet/Train_images_classified\"\n",
    "output = \"/Users/kunanonjarat/Downloads/AffectNet\"\n",
    "splitfolders.ratio(input_folder,output,seed=42,ratio=(0.8,0.1,0.1))"
   ]
  },
  {
   "cell_type": "code",
   "execution_count": null,
   "metadata": {},
   "outputs": [],
   "source": []
  }
 ]
}